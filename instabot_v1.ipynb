{
 "cells": [
  {
   "cell_type": "code",
   "execution_count": 1,
   "metadata": {},
   "outputs": [],
   "source": [
    "# -*- coding: utf-8 -*-\n",
    "\n",
    "\"\"\"\n",
    "@title: Instagram Browser Automation with Selenium\n",
    "@author: maliozer\n",
    "\"\"\"\n",
    "#imports\n",
    "from __future__ import (absolute_import, division, print_function,\n",
    "                        unicode_literals)\n",
    "\n",
    "import copy\n",
    "import random\n",
    "import socket\n",
    "import sys\n",
    "import time\n",
    "import unicodedata\n",
    "import urllib\n",
    "\n",
    "import pandas as pd\n",
    "\n",
    "from tqdm import tqdm\n",
    "\n",
    "from subprocess import call\n",
    "\n",
    "from selenium import webdriver\n",
    "from selenium.common.exceptions import StaleElementReferenceException\n",
    "from selenium.webdriver.common.keys import Keys"
   ]
  },
  {
   "cell_type": "code",
   "execution_count": 2,
   "metadata": {},
   "outputs": [],
   "source": [
    "# pinterest config variables\n",
    "INSTAGRAM_USERNAME = 'USERNAME'\n",
    "ISNTAGRAM_PASSWORD = 'PASSWORD'\n",
    "URL = 'ISNTA PROFILE URL'\n"
   ]
  },
  {
   "cell_type": "code",
   "execution_count": 3,
   "metadata": {},
   "outputs": [],
   "source": [
    "#starting browser and redirect to url\n",
    "browser = webdriver.Chrome()\n",
    "browser.get(URL)"
   ]
  },
  {
   "cell_type": "code",
   "execution_count": 4,
   "metadata": {},
   "outputs": [],
   "source": [
    "#create set for images\n",
    "image_set = set()"
   ]
  },
  {
   "cell_type": "code",
   "execution_count": 5,
   "metadata": {},
   "outputs": [],
   "source": [
    "#random delayer\n",
    "def randdelay(a, b):\n",
    "    time.sleep(random.uniform(a, b))"
   ]
  },
  {
   "cell_type": "code",
   "execution_count": 6,
   "metadata": {},
   "outputs": [],
   "source": [
    "#instagram image scraper fn\n",
    "def getImagesInsta():\n",
    "    images = browser.find_elements_by_tag_name(\"img\")\n",
    "    for x in range(len(images)):\n",
    "        image_set.add(images[x].get_attribute(\"src\"))"
   ]
  },
  {
   "cell_type": "code",
   "execution_count": 7,
   "metadata": {
    "scrolled": true
   },
   "outputs": [],
   "source": [
    "#next scroll\n",
    "def nextScroll():\n",
    "    dummy = browser.find_element_by_tag_name('a')\n",
    "    dummy.send_keys(Keys.PAGE_DOWN)\n",
    "    randdelay(2, 3)"
   ]
  },
  {
   "cell_type": "code",
   "execution_count": 8,
   "metadata": {
    "scrolled": false
   },
   "outputs": [],
   "source": [
    "#run script return src list\n",
    "def runScript(trial):\n",
    "    for x in tqdm(range(trial)):\n",
    "        getImagesInsta()\n",
    "        nextScroll()\n",
    "    return print(\"Trial has complete!\")"
   ]
  },
  {
   "cell_type": "code",
   "execution_count": 26,
   "metadata": {},
   "outputs": [],
   "source": [
    "def downloadToFolder(setofImages):\n",
    "    imagesrc_list = list(setofImages)\n",
    "    df_source_images = pd.DataFrame(imagesrc_list)\n",
    "    for i in tqdm(range(len(df_source_images))):\n",
    "        urllib.request.urlretrieve(df_source_images[0][i], './folder/'+str(i)+'.jpg')\n",
    "    return print(\"Download has completed successfully!\")"
   ]
  },
  {
   "cell_type": "code",
   "execution_count": 23,
   "metadata": {},
   "outputs": [],
   "source": [
    "#clear items\n",
    "def clearItems():\n",
    "    image_set.clear()"
   ]
  },
  {
   "cell_type": "code",
   "execution_count": null,
   "metadata": {},
   "outputs": [],
   "source": [
    "#run script n times\n",
    "runScript(300)"
   ]
  },
  {
   "cell_type": "code",
   "execution_count": null,
   "metadata": {},
   "outputs": [],
   "source": [
    "#after trials download the set\n",
    "downloadToFolder(image_set)"
   ]
  },
  {
   "cell_type": "code",
   "execution_count": null,
   "metadata": {},
   "outputs": [],
   "source": [
    "#get the length of scrapped images\n",
    "len(image_set)"
   ]
  },
  {
   "cell_type": "code",
   "execution_count": 24,
   "metadata": {},
   "outputs": [],
   "source": [
    "#clear items for next scrapping\n",
    "clearItems()"
   ]
  },
  {
   "cell_type": "code",
   "execution_count": null,
   "metadata": {},
   "outputs": [],
   "source": []
  }
 ],
 "metadata": {
  "kernelspec": {
   "display_name": "Python 3",
   "language": "python",
   "name": "python3"
  },
  "language_info": {
   "codemirror_mode": {
    "name": "ipython",
    "version": 3
   },
   "file_extension": ".py",
   "mimetype": "text/x-python",
   "name": "python",
   "nbconvert_exporter": "python",
   "pygments_lexer": "ipython3",
   "version": "3.7.1"
  }
 },
 "nbformat": 4,
 "nbformat_minor": 2
}
